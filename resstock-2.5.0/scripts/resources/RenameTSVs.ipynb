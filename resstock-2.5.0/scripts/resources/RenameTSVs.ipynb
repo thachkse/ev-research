{
 "cells": [
  {
   "cell_type": "code",
   "execution_count": 1,
   "metadata": {},
   "outputs": [],
   "source": [
    "import os"
   ]
  },
  {
   "cell_type": "code",
   "execution_count": 2,
   "metadata": {},
   "outputs": [],
   "source": [
    "# read the folder\n",
    "# get the path for the resstock folder\n",
    "cwd = os.getcwd()\n",
    "if os.path.basename(cwd) == 'resstock':\n",
    "    print(cwd)\n",
    "else:\n",
    "    os.chdir('../../../resstock/')\n",
    "\n",
    "    \n",
    "# # Change the string in the Viewer YML file\n",
    "# def vieweryml():\n",
    "    "
   ]
  },
  {
   "cell_type": "markdown",
   "metadata": {},
   "source": [
    "### Rename the TSV name\n",
    "    "
   ]
  },
  {
   "cell_type": "code",
   "execution_count": 3,
   "metadata": {},
   "outputs": [],
   "source": [
    "def rename_tsv(old_name, new_name):\n",
    "    for root, dirs, files in os.walk('.'):\n",
    "        for file in files:\n",
    "            if os.path.splitext(file)[-1] in ['.tsv', '.yml'] and file == old_name + '.tsv':\n",
    "#                 print(old_name + '.tsv')\n",
    "                old_name_path = os.path.join(root, file)\n",
    "                try:\n",
    "                    new_name_path = os.path.dirname(os.path.join(root, file)) + '\\\\'+ new_name + '.tsv'\n",
    "                except WindowsError:\n",
    "                    print(os.path.dirname(os.path.join(root, file)) + '\\\\'+ new_name + '.tsv' ' already in the housing characteristics; suggestion: change new name of the tsv or delete the existing if want to replace with this edits')\n",
    "                os.rename(old_name_path, new_name_path) \n"
   ]
  },
  {
   "cell_type": "code",
   "execution_count": 4,
   "metadata": {},
   "outputs": [],
   "source": [
    "rename_tsv('Geometry Building Type FPL', 'Geometry Building Type ACS')"
   ]
  },
  {
   "cell_type": "markdown",
   "metadata": {},
   "source": [
    "### Rename the old string with the new one from TSV(including options_lookup) and project YML file.\n"
   ]
  },
  {
   "cell_type": "code",
   "execution_count": 11,
   "metadata": {},
   "outputs": [],
   "source": [
    "def replace_dep_string(old_name, new_name):\n",
    "    for root, dirs, files in os.walk('.'):\n",
    "        for file in files:\n",
    "            if os.path.splitext(file)[-1] in ['.tsv', '.yml']:\n",
    "                f = open(os.path.join(root, file), 'r')\n",
    "                if f.mode == 'r':\n",
    "                    contents = f.read()\n",
    "                    \n",
    "                    if old_name in contents and old_name + ' ' not in contents: # ex. Geometry Building Type and Geometry Building Type ACS\n",
    "                        if not '*'+ old_name in contents:\n",
    "                            wf = open(os.path.join(root, file), 'w')\n",
    "                            contents_new = contents.replace(old_name, new_name)\n",
    "                            wf.write(contents_new)\n",
    "                            wf.close()"
   ]
  },
  {
   "cell_type": "code",
   "execution_count": null,
   "metadata": {},
   "outputs": [],
   "source": []
  },
  {
   "cell_type": "markdown",
   "metadata": {},
   "source": [
    "### Change the string in the project YML file\n"
   ]
  },
  {
   "cell_type": "code",
   "execution_count": 6,
   "metadata": {},
   "outputs": [],
   "source": [
    "# def rename_yml_string():\n",
    "#     for root, dirs, files in os.walk('.'):\n",
    "#         for file in files:\n",
    "#             if os.path.splitext(file)[-1] == '.yml':\n",
    "#                 f = open(os.path.join(root, file), 'r')\n",
    "#                 if f.mode == 'r':\n",
    "#                     contents = f.read()\n",
    "#                     if old_name in contents:\n",
    "#                         wf = open(os.path.join(root, file), 'w')\n",
    "#                         contents_new = contents.replace(old_name, new_name)\n",
    "#                         wf.write(contents_new)\n",
    "#                         wf.close()"
   ]
  },
  {
   "cell_type": "code",
   "execution_count": 7,
   "metadata": {},
   "outputs": [],
   "source": [
    "rename_tsv('Geometry Building Type FPL', 'Geometry Building Type ACS')\n",
    "replace_dep_string('Geometry Building Type', 'Geometry Building Type ACS')"
   ]
  },
  {
   "cell_type": "code",
   "execution_count": 8,
   "metadata": {},
   "outputs": [],
   "source": [
    "name_change = {\n",
    "    'Geometry Building Type FPL'        : 'Geometry Building Type ACS',\n",
    "    'Geometry Building Type'            : 'Geometry Building Type RECS',\n",
    "    'Vintage FPL'                       : 'Vintage ACS',\n",
    "    'Geometry Shared Walls MF'          : 'Geometry Building Shared Walls',\n",
    "    'Geometry Building Floors'          : 'Geometry Stories',\n",
    "#     'N/A'                               : 'None', \n",
    "    'Geometry Building Number Units HL' : 'Geometry Building Is Low Rise', \n",
    "    'HeatPump'                          : 'Heat pump',\n",
    "    'Has Heating Setpoint Offset'       : 'Heating Setpoint Has Offset',\n",
    "    'Has Cooling Setpoint Offset'       : 'Cooling Setpoint Has Offset',\n",
    "}"
   ]
  },
  {
   "cell_type": "code",
   "execution_count": 10,
   "metadata": {},
   "outputs": [],
   "source": [
    "for k, v in name_change.iteritems():\n",
    "    \n",
    "    rename_tsv(k,v)\n",
    "    replace_dep_string(k,v)"
   ]
  }
 ],
 "metadata": {
  "kernelspec": {
   "display_name": "Python 2",
   "language": "python",
   "name": "python2"
  },
  "language_info": {
   "codemirror_mode": {
    "name": "ipython",
    "version": 2
   },
   "file_extension": ".py",
   "mimetype": "text/x-python",
   "name": "python",
   "nbconvert_exporter": "python",
   "pygments_lexer": "ipython2",
   "version": "2.7.16"
  }
 },
 "nbformat": 4,
 "nbformat_minor": 2
}
